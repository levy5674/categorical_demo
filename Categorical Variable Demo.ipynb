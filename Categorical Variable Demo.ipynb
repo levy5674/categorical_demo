{
 "metadata": {
  "name": "",
  "signature": "sha256:e00b9071a793044bb0a31dbdf75d0e16ecb79c14fa8b80f9840ad7996fca99b2"
 },
 "nbformat": 3,
 "nbformat_minor": 0,
 "worksheets": [
  {
   "cells": [
    {
     "cell_type": "markdown",
     "metadata": {},
     "source": [
      "## Demo of regression with categorical variables\n",
      "\n",
      "- starts with categorical variables in a pandas data frame, \n",
      "- runs them through sklearn's dict vectorizer\n",
      "- train a linear regression model\n",
      "- add predicted values back to the data frame"
     ]
    },
    {
     "cell_type": "code",
     "collapsed": false,
     "input": [
      "import pandas as pd"
     ],
     "language": "python",
     "metadata": {},
     "outputs": [],
     "prompt_number": 1
    },
    {
     "cell_type": "code",
     "collapsed": false,
     "input": [
      "from sklearn.feature_extraction import DictVectorizer\n",
      "from sklearn.linear_model import LinearRegression"
     ],
     "language": "python",
     "metadata": {},
     "outputs": [],
     "prompt_number": 2
    },
    {
     "cell_type": "code",
     "collapsed": false,
     "input": [
      "data = pd.DataFrame([[\"Premium\", 50, 150000], [\"Premium\", 20, 125000], \n",
      "                     [\"Basic\", 50, 60000], [\"Basic\", 30, 45000]], columns=['Type', 'Count', 'Cost'])\n",
      "data"
     ],
     "language": "python",
     "metadata": {},
     "outputs": [
      {
       "html": [
        "<div style=\"max-height:1000px;max-width:1500px;overflow:auto;\">\n",
        "<table border=\"1\" class=\"dataframe\">\n",
        "  <thead>\n",
        "    <tr style=\"text-align: right;\">\n",
        "      <th></th>\n",
        "      <th>Type</th>\n",
        "      <th>Count</th>\n",
        "      <th>Cost</th>\n",
        "    </tr>\n",
        "  </thead>\n",
        "  <tbody>\n",
        "    <tr>\n",
        "      <th>0</th>\n",
        "      <td> Premium</td>\n",
        "      <td> 50</td>\n",
        "      <td> 150000</td>\n",
        "    </tr>\n",
        "    <tr>\n",
        "      <th>1</th>\n",
        "      <td> Premium</td>\n",
        "      <td> 20</td>\n",
        "      <td> 125000</td>\n",
        "    </tr>\n",
        "    <tr>\n",
        "      <th>2</th>\n",
        "      <td>   Basic</td>\n",
        "      <td> 50</td>\n",
        "      <td>  60000</td>\n",
        "    </tr>\n",
        "    <tr>\n",
        "      <th>3</th>\n",
        "      <td>   Basic</td>\n",
        "      <td> 30</td>\n",
        "      <td>  45000</td>\n",
        "    </tr>\n",
        "  </tbody>\n",
        "</table>\n",
        "</div>"
       ],
       "metadata": {},
       "output_type": "pyout",
       "prompt_number": 3,
       "text": [
        "      Type  Count    Cost\n",
        "0  Premium     50  150000\n",
        "1  Premium     20  125000\n",
        "2    Basic     50   60000\n",
        "3    Basic     30   45000"
       ]
      }
     ],
     "prompt_number": 3
    },
    {
     "cell_type": "markdown",
     "metadata": {},
     "source": [
      "### DataFrame.to_dict creates a dictionary --  {column_name: {row_name: value}}"
     ]
    },
    {
     "cell_type": "code",
     "collapsed": false,
     "input": [
      "data.to_dict()"
     ],
     "language": "python",
     "metadata": {},
     "outputs": [
      {
       "metadata": {},
       "output_type": "pyout",
       "prompt_number": 4,
       "text": [
        "{'Cost': {0: 150000, 1: 125000, 2: 60000, 3: 45000},\n",
        " 'Count': {0: 50, 1: 20, 2: 50, 3: 30},\n",
        " 'Type': {0: 'Premium', 1: 'Premium', 2: 'Basic', 3: 'Basic'}}"
       ]
      }
     ],
     "prompt_number": 4
    },
    {
     "cell_type": "markdown",
     "metadata": {},
     "source": [
      "## DictVectorizer wants an array of dictionaries -- [{column_name: value}]\n",
      "\n",
      "- transpose the frame to get {row_name: {column_name: value}}\n",
      "- then take .values() to get [{column_name: value}]"
     ]
    },
    {
     "cell_type": "code",
     "collapsed": false,
     "input": [
      "data.T.to_dict().values()"
     ],
     "language": "python",
     "metadata": {},
     "outputs": [
      {
       "metadata": {},
       "output_type": "pyout",
       "prompt_number": 5,
       "text": [
        "[{'Cost': 150000, 'Count': 50, 'Type': 'Premium'},\n",
        " {'Cost': 125000, 'Count': 20, 'Type': 'Premium'},\n",
        " {'Cost': 60000, 'Count': 50, 'Type': 'Basic'},\n",
        " {'Cost': 45000, 'Count': 30, 'Type': 'Basic'}]"
       ]
      }
     ],
     "prompt_number": 5
    },
    {
     "cell_type": "markdown",
     "metadata": {},
     "source": [
      "## Now build the vectorizer and train the model\n",
      "- exclude Cost so we have something to predict later"
     ]
    },
    {
     "cell_type": "code",
     "collapsed": false,
     "input": [
      "X_dict = data.drop('Cost', 1).T.to_dict().values()\n",
      "X_dict"
     ],
     "language": "python",
     "metadata": {},
     "outputs": [
      {
       "metadata": {},
       "output_type": "pyout",
       "prompt_number": 6,
       "text": [
        "[{'Count': 50, 'Type': 'Premium'},\n",
        " {'Count': 20, 'Type': 'Premium'},\n",
        " {'Count': 50, 'Type': 'Basic'},\n",
        " {'Count': 30, 'Type': 'Basic'}]"
       ]
      }
     ],
     "prompt_number": 6
    },
    {
     "cell_type": "code",
     "collapsed": false,
     "input": [
      "dv = DictVectorizer().fit(X_dict)\n",
      "dv.feature_names_"
     ],
     "language": "python",
     "metadata": {},
     "outputs": [
      {
       "metadata": {},
       "output_type": "pyout",
       "prompt_number": 7,
       "text": [
        "['Count', 'Type=Basic', 'Type=Premium']"
       ]
      }
     ],
     "prompt_number": 7
    },
    {
     "cell_type": "markdown",
     "metadata": {},
     "source": [
      "### dv.transform creates a sparse matrix\n",
      "- fine for creating the model\n",
      "- need to call .A to see the values"
     ]
    },
    {
     "cell_type": "code",
     "collapsed": false,
     "input": [
      "X_vec = dv.transform(X_dict)\n",
      "X_vec.A"
     ],
     "language": "python",
     "metadata": {},
     "outputs": [
      {
       "metadata": {},
       "output_type": "pyout",
       "prompt_number": 8,
       "text": [
        "array([[ 50.,   0.,   1.],\n",
        "       [ 20.,   0.,   1.],\n",
        "       [ 50.,   1.,   0.],\n",
        "       [ 30.,   1.,   0.]])"
       ]
      }
     ],
     "prompt_number": 8
    },
    {
     "cell_type": "code",
     "collapsed": false,
     "input": [
      "lm = LinearRegression().fit(X_vec, data.Cost)\n",
      "lm.intercept_, lm.coef_"
     ],
     "language": "python",
     "metadata": {},
     "outputs": [
      {
       "metadata": {},
       "output_type": "pyout",
       "prompt_number": 9,
       "text": [
        "(95000.0, array([   807.69230773, -74807.69230769,  14230.76923077]))"
       ]
      }
     ],
     "prompt_number": 9
    },
    {
     "cell_type": "markdown",
     "metadata": {},
     "source": [
      "### zip combines lists into a list of tuples"
     ]
    },
    {
     "cell_type": "code",
     "collapsed": false,
     "input": [
      "zip(lm.coef_, dv.feature_names_)"
     ],
     "language": "python",
     "metadata": {},
     "outputs": [
      {
       "metadata": {},
       "output_type": "pyout",
       "prompt_number": 10,
       "text": [
        "[(807.69230772783476, 'Count'),\n",
        " (-74807.692307691061, 'Type=Basic'),\n",
        " (14230.769230769529, 'Type=Premium')]"
       ]
      }
     ],
     "prompt_number": 10
    },
    {
     "cell_type": "markdown",
     "metadata": {},
     "source": [
      "### Now make the predictions"
     ]
    },
    {
     "cell_type": "code",
     "collapsed": false,
     "input": [
      "lm.predict(X_vec)"
     ],
     "language": "python",
     "metadata": {},
     "outputs": [
      {
       "metadata": {},
       "output_type": "pyout",
       "prompt_number": 11,
       "text": [
        "array([ 149615.38461716,  125384.61538533,   60576.9230787 ,\n",
        "         44423.07692414])"
       ]
      }
     ],
     "prompt_number": 11
    },
    {
     "cell_type": "markdown",
     "metadata": {},
     "source": [
      "### Make the predictions and store them back in the data frame\n",
      "\n",
      "- The DictVectorizer will only transform variables it understands, so we can transform then entire frame."
     ]
    },
    {
     "cell_type": "code",
     "collapsed": false,
     "input": [
      "data['PredictedCost'] = lm.predict(dv.transform(data.T.to_dict().values()))\n",
      "data"
     ],
     "language": "python",
     "metadata": {},
     "outputs": [
      {
       "html": [
        "<div style=\"max-height:1000px;max-width:1500px;overflow:auto;\">\n",
        "<table border=\"1\" class=\"dataframe\">\n",
        "  <thead>\n",
        "    <tr style=\"text-align: right;\">\n",
        "      <th></th>\n",
        "      <th>Type</th>\n",
        "      <th>Count</th>\n",
        "      <th>Cost</th>\n",
        "      <th>PredictedCost</th>\n",
        "    </tr>\n",
        "  </thead>\n",
        "  <tbody>\n",
        "    <tr>\n",
        "      <th>0</th>\n",
        "      <td> Premium</td>\n",
        "      <td> 50</td>\n",
        "      <td> 150000</td>\n",
        "      <td> 149615.384617</td>\n",
        "    </tr>\n",
        "    <tr>\n",
        "      <th>1</th>\n",
        "      <td> Premium</td>\n",
        "      <td> 20</td>\n",
        "      <td> 125000</td>\n",
        "      <td> 125384.615385</td>\n",
        "    </tr>\n",
        "    <tr>\n",
        "      <th>2</th>\n",
        "      <td>   Basic</td>\n",
        "      <td> 50</td>\n",
        "      <td>  60000</td>\n",
        "      <td>  60576.923079</td>\n",
        "    </tr>\n",
        "    <tr>\n",
        "      <th>3</th>\n",
        "      <td>   Basic</td>\n",
        "      <td> 30</td>\n",
        "      <td>  45000</td>\n",
        "      <td>  44423.076924</td>\n",
        "    </tr>\n",
        "  </tbody>\n",
        "</table>\n",
        "</div>"
       ],
       "metadata": {},
       "output_type": "pyout",
       "prompt_number": 12,
       "text": [
        "      Type  Count    Cost  PredictedCost\n",
        "0  Premium     50  150000  149615.384617\n",
        "1  Premium     20  125000  125384.615385\n",
        "2    Basic     50   60000   60576.923079\n",
        "3    Basic     30   45000   44423.076924"
       ]
      }
     ],
     "prompt_number": 12
    },
    {
     "cell_type": "code",
     "collapsed": false,
     "input": [],
     "language": "python",
     "metadata": {},
     "outputs": [],
     "prompt_number": 12
    }
   ],
   "metadata": {}
  }
 ]
}